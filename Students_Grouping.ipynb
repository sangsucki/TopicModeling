{
  "nbformat": 4,
  "nbformat_minor": 0,
  "metadata": {
    "colab": {
      "name": "Students Grouping.ipynb",
      "provenance": [],
      "collapsed_sections": [],
      "authorship_tag": "ABX9TyPLQNa9Bo3IKlQETrZDD5a2",
      "include_colab_link": true
    },
    "kernelspec": {
      "name": "python3",
      "display_name": "Python 3"
    },
    "language_info": {
      "name": "python"
    }
  },
  "cells": [
    {
      "cell_type": "markdown",
      "metadata": {
        "id": "view-in-github",
        "colab_type": "text"
      },
      "source": [
        "<a href=\"https://colab.research.google.com/github/sangsucki/TopicModeling/blob/main/Students_Grouping.ipynb\" target=\"_parent\"><img src=\"https://colab.research.google.com/assets/colab-badge.svg\" alt=\"Open In Colab\"/></a>"
      ]
    },
    {
      "cell_type": "code",
      "source": [
        "import random\n"
      ],
      "metadata": {
        "id": "_6j-ZsKFh3iP"
      },
      "execution_count": 1,
      "outputs": []
    },
    {
      "cell_type": "code",
      "execution_count": 2,
      "metadata": {
        "id": "Co9ZswYYheyX"
      },
      "outputs": [],
      "source": [
        "students = ['\b윤여형', '임경화','구동현','김현호','유제신','김인성','윤성빈','지민영','강전민','송주형','안봉균','김홍희','박영상','이상민','변아름','윤주성']\n",
        "\n"
      ]
    },
    {
      "cell_type": "code",
      "source": [
        "len(students)"
      ],
      "metadata": {
        "colab": {
          "base_uri": "https://localhost:8080/"
        },
        "id": "8x8O_kKih_8L",
        "outputId": "728a5c6e-a720-4e30-e4cb-00845b3702f0"
      },
      "execution_count": 3,
      "outputs": [
        {
          "output_type": "execute_result",
          "data": {
            "text/plain": [
              "16"
            ]
          },
          "metadata": {},
          "execution_count": 3
        }
      ]
    },
    {
      "cell_type": "code",
      "source": [
        "def make_random_groups(students, number_of_groups):\n",
        "    \n",
        "    #Shuffle list of students\n",
        "    random.shuffle(students)\n",
        "    \n",
        "    #Create groups\n",
        "    all_groups = []\n",
        "    for index in range(number_of_groups):\n",
        "        group = students[index::number_of_groups]\n",
        "        all_groups.append(group)\n",
        "    \n",
        "    #Format and display groups\n",
        "    for index, group in enumerate(all_groups):\n",
        "        print(f\"✨Group {index+1}✨: {' / '.join(group)}\\n\")"
      ],
      "metadata": {
        "id": "BsMt4VXmhsVJ"
      },
      "execution_count": 4,
      "outputs": []
    },
    {
      "cell_type": "code",
      "source": [
        "make_random_groups(students, 4)\n"
      ],
      "metadata": {
        "colab": {
          "base_uri": "https://localhost:8080/"
        },
        "id": "_w8lK-8ShwYs",
        "outputId": "69de9912-a9e3-4824-e383-c62d5979d8dd"
      },
      "execution_count": 7,
      "outputs": [
        {
          "output_type": "stream",
          "name": "stdout",
          "text": [
            "✨Group 1✨: 구동현 / 강전민 / 윤성빈 / 박영상\n",
            "\n",
            "✨Group 2✨: 이상민 / 유제신 / 지민영 / 김홍희\n",
            "\n",
            "✨Group 3✨: 김현호 / \b윤여형 / 윤주성 / 안봉균\n",
            "\n",
            "✨Group 4✨: 송주형 / 변아름 / 김인성 / 임경화\n",
            "\n"
          ]
        }
      ]
    },
    {
      "cell_type": "code",
      "source": [
        ""
      ],
      "metadata": {
        "id": "CC4BUV6SyesH"
      },
      "execution_count": 6,
      "outputs": []
    }
  ]
}