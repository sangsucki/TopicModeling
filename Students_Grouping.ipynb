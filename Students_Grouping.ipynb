{
  "nbformat": 4,
  "nbformat_minor": 0,
  "metadata": {
    "colab": {
      "name": "Students Grouping.ipynb",
      "provenance": [],
      "collapsed_sections": [],
      "authorship_tag": "ABX9TyN4Ptvjys9X03eVuLMe2J0I",
      "include_colab_link": true
    },
    "kernelspec": {
      "name": "python3",
      "display_name": "Python 3"
    },
    "language_info": {
      "name": "python"
    }
  },
  "cells": [
    {
      "cell_type": "markdown",
      "metadata": {
        "id": "view-in-github",
        "colab_type": "text"
      },
      "source": [
        "<a href=\"https://colab.research.google.com/github/sangsucki/TopicModeling/blob/main/Students_Grouping.ipynb\" target=\"_parent\"><img src=\"https://colab.research.google.com/assets/colab-badge.svg\" alt=\"Open In Colab\"/></a>"
      ]
    },
    {
      "cell_type": "code",
      "source": [
        "import random\n"
      ],
      "metadata": {
        "id": "_6j-ZsKFh3iP"
      },
      "execution_count": null,
      "outputs": []
    },
    {
      "cell_type": "code",
      "execution_count": null,
      "metadata": {
        "id": "Co9ZswYYheyX"
      },
      "outputs": [],
      "source": [
        "students = ['이상석','노영찬','신상아']\n",
        "\n"
      ]
    },
    {
      "cell_type": "code",
      "source": [
        "len(students)"
      ],
      "metadata": {
        "colab": {
          "base_uri": "https://localhost:8080/"
        },
        "id": "8x8O_kKih_8L",
        "outputId": "38ff68f5-64c8-48e2-d678-9245ed90ad76"
      },
      "execution_count": null,
      "outputs": [
        {
          "output_type": "execute_result",
          "data": {
            "text/plain": [
              "3"
            ]
          },
          "metadata": {},
          "execution_count": 7
        }
      ]
    },
    {
      "cell_type": "code",
      "source": [
        "def make_random_groups(students, number_of_groups):\n",
        "    \n",
        "    #Shuffle list of students\n",
        "    random.shuffle(students)\n",
        "    \n",
        "    #Create groups\n",
        "    all_groups = []\n",
        "    for index in range(number_of_groups):\n",
        "        group = students[index::number_of_groups]\n",
        "        all_groups.append(group)\n",
        "    \n",
        "    #Format and display groups\n",
        "    for index, group in enumerate(all_groups):\n",
        "        print(f\"✨Group {index+1}✨: {' / '.join(group)}\\n\")"
      ],
      "metadata": {
        "id": "BsMt4VXmhsVJ"
      },
      "execution_count": null,
      "outputs": []
    },
    {
      "cell_type": "code",
      "source": [
        "make_random_groups(students, 2)\n"
      ],
      "metadata": {
        "colab": {
          "base_uri": "https://localhost:8080/"
        },
        "id": "_w8lK-8ShwYs",
        "outputId": "8f2d53cb-404e-4286-e645-4a8f90e511c5"
      },
      "execution_count": null,
      "outputs": [
        {
          "output_type": "stream",
          "name": "stdout",
          "text": [
            "✨Group 1✨: 노영찬 / 이상석\n",
            "\n",
            "✨Group 2✨: 신상아\n",
            "\n"
          ]
        }
      ]
    }
  ]
}